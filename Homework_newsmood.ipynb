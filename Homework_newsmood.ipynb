{
 "cells": [
  {
   "cell_type": "code",
   "execution_count": 17,
   "metadata": {},
   "outputs": [],
   "source": [
    "# Dependencies\n",
    "import tweepy\n",
    "import json\n",
    "import pandas as pd\n",
    "import csv\n",
    "import matplotlib.pyplot as plt\n",
    "import time\n",
    "import numpy as np\n",
    "from datetime import datetime\n",
    "from vaderSentiment.vaderSentiment import SentimentIntensityAnalyzer\n",
    "analyzer = SentimentIntensityAnalyzer()\n",
    "\n",
    "# Twitter API Keys \n",
    "consumer_key = \"yUHOWwWG9Pj3C8f21tnm4rWOb\"\n",
    "consumer_secret = \"JowHOFRinCn2DOOd7ZP8ToHkU83piXhZ0ZPUopHTW7grDS0XPI\"\n",
    "access_token = \"975055841089867776-GRHdjTQ4NuqwZNfevh4L54bxNgiw1Hu\"\n",
    "access_token_secret = \"nR7n7Qp5lduLHCH6rSF46gJi8YolN6pRLXnE63lghWc3T\"\n",
    "\n"
   ]
  },
  {
   "cell_type": "code",
   "execution_count": 2,
   "metadata": {},
   "outputs": [],
   "source": [
    "# Setup Tweepy API Authentication\n",
    "auth = tweepy.OAuthHandler(consumer_key, consumer_secret)\n",
    "auth.set_access_token(access_token, access_token_secret)\n",
    "api = tweepy.API(auth, parser=tweepy.parsers.JSONParser())\n",
    "\n",
    "# # Get all tweets from home feed\n",
    "# public_tweets = api.home_timeline()\n",
    "\n",
    "# # Import CSV file into Data Frame\n",
    "# popular_tweeters = pd.read_csv(\"PopularAccounts.csv\", dtype=str)\n",
    "\n",
    "# popular_tweeters.head()"
   ]
  },
  {
   "cell_type": "code",
   "execution_count": 3,
   "metadata": {},
   "outputs": [],
   "source": [
    "# List of target users\n",
    "target_users = [\"@BBCWorld\", \"@CBSNews\", \"@CNN\", \"@FoxNews\", \"@nytimes\"]"
   ]
  },
  {
   "cell_type": "code",
   "execution_count": 4,
   "metadata": {},
   "outputs": [],
   "source": [
    "# Variables for storing DataFrame information\n",
    "source_account = []\n",
    "text = []\n",
    "date = []\n",
    "compound_list = []\n",
    "positive_list = []\n",
    "neutral_list = []\n",
    "negative_list = []\n",
    "tweets_ago = []"
   ]
  },
  {
   "cell_type": "code",
   "execution_count": 5,
   "metadata": {},
   "outputs": [],
   "source": [
    "# Looping through all the users\n",
    "for user in target_users:\n",
    "    \n",
    "    # Tweet count\n",
    "    tweet_count = 0\n",
    "\n",
    "    # Get the last 100 tweets\n",
    "    for x in range(5):\n",
    "        # Get all tweets from home feed\n",
    "        public_tweets = api.user_timeline(user, page=x)\n",
    "\n",
    "        # Loop through all the tweets\n",
    "        for tweet in public_tweets:\n",
    "        \n",
    "            # Incrementing tweet_count\n",
    "            tweet_count += 1\n",
    "    \n",
    "            # Adding values to list\n",
    "            source_account.append(user)\n",
    "            text.append(tweet['text'])\n",
    "            date.append(tweet['created_at'])\n",
    "            tweets_ago.append(tweet_count)\n",
    "    \n",
    "            # Run Vader Analysis on each tweet\n",
    "            compound = analyzer.polarity_scores(tweet[\"text\"])[\"compound\"]\n",
    "            pos = analyzer.polarity_scores(tweet[\"text\"])[\"pos\"]\n",
    "            neu = analyzer.polarity_scores(tweet[\"text\"])[\"neu\"]\n",
    "            neg = analyzer.polarity_scores(tweet[\"text\"])[\"neg\"]\n",
    "    \n",
    "            # Add each value to the appropriate list\n",
    "            compound_list.append(compound)\n",
    "            positive_list.append(pos)\n",
    "            neutral_list.append(neu)\n",
    "            negative_list.append(neg)"
   ]
  },
  {
   "cell_type": "code",
   "execution_count": 6,
   "metadata": {},
   "outputs": [
    {
     "data": {
      "text/html": [
       "<div>\n",
       "<style scoped>\n",
       "    .dataframe tbody tr th:only-of-type {\n",
       "        vertical-align: middle;\n",
       "    }\n",
       "\n",
       "    .dataframe tbody tr th {\n",
       "        vertical-align: top;\n",
       "    }\n",
       "\n",
       "    .dataframe thead th {\n",
       "        text-align: right;\n",
       "    }\n",
       "</style>\n",
       "<table border=\"1\" class=\"dataframe\">\n",
       "  <thead>\n",
       "    <tr style=\"text-align: right;\">\n",
       "      <th></th>\n",
       "      <th>Source Account</th>\n",
       "      <th>Tweet</th>\n",
       "      <th>Date</th>\n",
       "      <th>Compound Score</th>\n",
       "      <th>Positive Score</th>\n",
       "      <th>Neutral Score</th>\n",
       "      <th>Negative Score</th>\n",
       "      <th>Tweets Ago</th>\n",
       "    </tr>\n",
       "  </thead>\n",
       "  <tbody>\n",
       "    <tr>\n",
       "      <th>0</th>\n",
       "      <td>@BBCWorld</td>\n",
       "      <td>Easter: Irish pubs lift Good Friday alcohol ba...</td>\n",
       "      <td>Fri Mar 30 05:55:35 +0000 2018</td>\n",
       "      <td>-0.1779</td>\n",
       "      <td>0.215</td>\n",
       "      <td>0.519</td>\n",
       "      <td>0.267</td>\n",
       "      <td>1</td>\n",
       "    </tr>\n",
       "    <tr>\n",
       "      <th>1</th>\n",
       "      <td>@BBCWorld</td>\n",
       "      <td>RT @BBCNewsAsia: The former Korean Air executi...</td>\n",
       "      <td>Fri Mar 30 05:49:39 +0000 2018</td>\n",
       "      <td>-0.8625</td>\n",
       "      <td>0.000</td>\n",
       "      <td>0.676</td>\n",
       "      <td>0.324</td>\n",
       "      <td>2</td>\n",
       "    </tr>\n",
       "    <tr>\n",
       "      <th>2</th>\n",
       "      <td>@BBCWorld</td>\n",
       "      <td>RT @BBCNewsAsia: Brace yourselves. \\n\\nChina's...</td>\n",
       "      <td>Fri Mar 30 05:12:28 +0000 2018</td>\n",
       "      <td>0.0000</td>\n",
       "      <td>0.000</td>\n",
       "      <td>1.000</td>\n",
       "      <td>0.000</td>\n",
       "      <td>3</td>\n",
       "    </tr>\n",
       "    <tr>\n",
       "      <th>3</th>\n",
       "      <td>@BBCWorld</td>\n",
       "      <td>Korean Air 'nut rage' heiress makes management...</td>\n",
       "      <td>Fri Mar 30 04:51:40 +0000 2018</td>\n",
       "      <td>-0.5574</td>\n",
       "      <td>0.000</td>\n",
       "      <td>0.690</td>\n",
       "      <td>0.310</td>\n",
       "      <td>4</td>\n",
       "    </tr>\n",
       "    <tr>\n",
       "      <th>4</th>\n",
       "      <td>@BBCWorld</td>\n",
       "      <td>RT @BBCNewsAsia: Just in case you missed this ...</td>\n",
       "      <td>Fri Mar 30 04:44:59 +0000 2018</td>\n",
       "      <td>-0.5423</td>\n",
       "      <td>0.000</td>\n",
       "      <td>0.842</td>\n",
       "      <td>0.158</td>\n",
       "      <td>5</td>\n",
       "    </tr>\n",
       "  </tbody>\n",
       "</table>\n",
       "</div>"
      ],
      "text/plain": [
       "  Source Account                                              Tweet  \\\n",
       "0      @BBCWorld  Easter: Irish pubs lift Good Friday alcohol ba...   \n",
       "1      @BBCWorld  RT @BBCNewsAsia: The former Korean Air executi...   \n",
       "2      @BBCWorld  RT @BBCNewsAsia: Brace yourselves. \\n\\nChina's...   \n",
       "3      @BBCWorld  Korean Air 'nut rage' heiress makes management...   \n",
       "4      @BBCWorld  RT @BBCNewsAsia: Just in case you missed this ...   \n",
       "\n",
       "                             Date  Compound Score  Positive Score  \\\n",
       "0  Fri Mar 30 05:55:35 +0000 2018         -0.1779           0.215   \n",
       "1  Fri Mar 30 05:49:39 +0000 2018         -0.8625           0.000   \n",
       "2  Fri Mar 30 05:12:28 +0000 2018          0.0000           0.000   \n",
       "3  Fri Mar 30 04:51:40 +0000 2018         -0.5574           0.000   \n",
       "4  Fri Mar 30 04:44:59 +0000 2018         -0.5423           0.000   \n",
       "\n",
       "   Neutral Score  Negative Score  Tweets Ago  \n",
       "0          0.519           0.267           1  \n",
       "1          0.676           0.324           2  \n",
       "2          1.000           0.000           3  \n",
       "3          0.690           0.310           4  \n",
       "4          0.842           0.158           5  "
      ]
     },
     "execution_count": 6,
     "metadata": {},
     "output_type": "execute_result"
    }
   ],
   "source": [
    "# Creating dictionary for DataFrame\n",
    "tweet_info = {\n",
    "    \"Source Account\": source_account,\n",
    "    \"Tweet\": text,\n",
    "    \"Date\": date,\n",
    "    \"Compound Score\": compound_list,\n",
    "    \"Positive Score\": positive_list,\n",
    "    \"Neutral Score\": neutral_list,\n",
    "    \"Negative Score\": negative_list,\n",
    "    \"Tweets Ago\": tweets_ago\n",
    "}\n",
    "\n",
    "tweets_df = pd.DataFrame(tweet_info, columns = ['Source Account', 'Tweet', 'Date', 'Compound Score', 'Positive Score',\n",
    "                                               'Neutral Score', 'Negative Score', 'Tweets Ago'])\n",
    "tweets_df.head()"
   ]
  },
  {
   "cell_type": "code",
   "execution_count": 7,
   "metadata": {},
   "outputs": [],
   "source": [
    "# Grabbing info by source account\n",
    "bbc = tweets_df.loc[tweets_df['Source Account'] == '@BBCWorld']\n",
    "cbs = tweets_df.loc[tweets_df['Source Account'] == '@CBSNews']\n",
    "cnn = tweets_df.loc[tweets_df['Source Account'] == '@CNN']\n",
    "fox = tweets_df.loc[tweets_df['Source Account'] == '@FoxNews']\n",
    "nyt = tweets_df.loc[tweets_df['Source Account'] == '@nytimes']"
   ]
  },
  {
   "cell_type": "code",
   "execution_count": 15,
   "metadata": {},
   "outputs": [
    {
     "data": {
      "image/png": "[encoded data removed]",
      "text/plain": [
       "<Figure size 432x288 with 1 Axes>"
      ]
     },
     "metadata": {},
     "output_type": "display_data"
    }
   ],
   "source": [
    "# Plotting Twitter info\n",
    "plt.scatter(bbc['Tweets Ago'], bbc['Compound Score'], c='c', edgecolor='k', label='BBCWorld')\n",
    "plt.scatter(cbs['Tweets Ago'], cbs['Compound Score'], c='g', edgecolor='k', label='CBS')\n",
    "plt.scatter(cnn['Tweets Ago'], cnn['Compound Score'], c='r', edgecolor='k', label='CNN')\n",
    "plt.scatter(fox['Tweets Ago'], fox['Compound Score'], c='navy', edgecolor='k', label='Fox')\n",
    "plt.scatter(nyt['Tweets Ago'], nyt['Compound Score'], c='y', edgecolor='k', label='New York Times')\n",
    "\n",
    "# Adjusting dimensions & labels\n",
    "plt.title(\"Sentiment Analysis of Media Tweets (%s)\" % (time.strftime(\"%m/%d/%Y\")))\n",
    "plt.xlabel(\"Tweets Ago\")\n",
    "plt.xlim(105,-5)\n",
    "plt.ylabel(\"Tweet Polarity\")\n",
    "plt.ylim(-1.1,1.1)\n",
    "plt.legend(bbox_to_anchor=(1, 0.95), title='Media Sources', fontsize='medium')\n",
    "\n",
    "plt.savefig(\"Sentiment_Analysis_of_Tweets.png\", bbox_inches=\"tight\")\n",
    "plt.show()"
   ]
  },
  {
   "cell_type": "code",
   "execution_count": 18,
   "metadata": {},
   "outputs": [
    {
     "data": {
      "image/png": "[encoded data removed]",
      "text/plain": [
       "<Figure size 432x288 with 1 Axes>"
      ]
     },
     "metadata": {},
     "output_type": "display_data"
    }
   ],
   "source": [
    "plt.bar(0, bbc['Compound Score'].mean(), color='c', edgecolor='k', width=1)\n",
    "plt.bar(1, cbs['Compound Score'].mean(), color='g', edgecolor='k', width=1)\n",
    "plt.bar(2, cnn['Compound Score'].mean(), color='r', edgecolor='k', width=1)\n",
    "plt.bar(3, fox['Compound Score'].mean(), color='navy', edgecolor='k', width=1)\n",
    "plt.bar(4, nyt['Compound Score'].mean(), color='y', edgecolor='k', width=1)\n",
    "\n",
    "plt.title(\"Overall Media Sentiment based on Twitter (%s)\" % (time.strftime(\"%m/%d/%Y\")))\n",
    "plt.ylabel(\"Tweet Polarity\")\n",
    "plt.ylim(-1,1)\n",
    "\n",
    "x_labels = [\"BBCWorld\", \"CBS\", \"CNN\", \"Fox\", \"NYT\"]\n",
    "\n",
    "x_locations = [value for value in np.arange(5)]\n",
    "plt.xticks(x_locations, x_labels)\n",
    "\n",
    "for a,b in zip(np.arange(5), [bbc['Compound Score'].mean(),cbs['Compound Score'].mean(),\n",
    "                              cnn['Compound Score'].mean(),\n",
    "                             fox['Compound Score'].mean(),nyt['Compound Score'].mean()]):\n",
    "    if b > 0:\n",
    "        plt.text(a-0.2,b-b-0.015,str(round(b,3)))\n",
    "    else:\n",
    "        plt.text(a-0.2,b-b+0.01,str(round(b,3)))\n",
    "\n",
    "plt.savefig(\"Overall_Media_Sentiment.png\")\n",
    "plt.show()"
   ]
  },
  {
   "cell_type": "code",
   "execution_count": 21,
   "metadata": {},
   "outputs": [],
   "source": [
    "# Exporting DataFrame\n",
    "tweets_df.to_csv(\"Tweets_Sentiment_Analysis.csv\", index=False)"
   ]
  }
 ],
 "metadata": {
  "kernelspec": {
   "display_name": "Python 3",
   "language": "python",
   "name": "python3"
  },
  "language_info": {
   "codemirror_mode": {
    "name": "ipython",
    "version": 3
   },
   "file_extension": ".py",
   "mimetype": "text/x-python",
   "name": "python",
   "nbconvert_exporter": "python",
   "pygments_lexer": "ipython3",
   "version": "3.5.2"
  }
 },
 "nbformat": 4,
 "nbformat_minor": 2
}
